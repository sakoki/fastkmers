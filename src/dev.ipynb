{
 "cells": [
  {
   "cell_type": "markdown",
   "metadata": {},
   "source": [
    "# fastkmers\n",
    "*Author: Koki Sasagawa*\n",
    "\n",
    "`fastkmers.py` will read zipped fastq files directly and find all kmers of size N, then return kmers sorted by their frequencies. "
   ]
  },
  {
   "cell_type": "code",
   "execution_count": 1,
   "metadata": {},
   "outputs": [],
   "source": [
    "import fastkmers"
   ]
  },
  {
   "cell_type": "markdown",
   "metadata": {},
   "source": [
    "### Load sample fq files\n",
    "\n",
    "For development purposes, the fastq file used for this session has ben downsampled to 1M reads. The original file contained aound ~80 million reads as checked with the following script\n",
    "\n",
    "```bash\n",
    "data grep -c \"@\" sample.fq\n",
    "```"
   ]
  },
  {
   "cell_type": "code",
   "execution_count": 4,
   "metadata": {},
   "outputs": [
    {
     "name": "stdout",
     "output_type": "stream",
     "text": [
      "Running get_sequences...\n",
      "Finished in 5.2646s\n",
      "Running get_sequences...\n",
      "Finished in 5.2467s\n",
      "Running get_sequences...\n",
      "Finished in 5.2262s\n",
      "Running get_sequences...\n",
      "Finished in 5.2408s\n",
      "Running get_sequences...\n",
      "Finished in 5.2370s\n",
      "Running get_sequences...\n",
      "Finished in 5.2477s\n",
      "Running get_sequences...\n",
      "Finished in 5.2222s\n",
      "Running get_sequences...\n",
      "Finished in 5.2260s\n",
      "5.27 s ± 9.35 ms per loop (mean ± std. dev. of 7 runs, 1 loop each)\n"
     ]
    }
   ],
   "source": [
    "%%timeit\n",
    "fastkmers.get_sequences(\"../data/subset_1M.fq.gz\")"
   ]
  },
  {
   "cell_type": "markdown",
   "metadata": {},
   "source": [
    "5.27 s on average to load 1 million lines\n",
    "\n",
    "Estimate the load time for 80 million reads\n",
    "\n",
    "$$\n",
    "    80M \\times \\frac{5.27s}{1M} = 421.6s \\times \\frac{1min}{60s} = 7min\n",
    "$$"
   ]
  },
  {
   "cell_type": "code",
   "execution_count": 2,
   "metadata": {},
   "outputs": [
    {
     "name": "stdout",
     "output_type": "stream",
     "text": [
      "Running get_sequences...\n",
      "Finished in 5.2897s\n"
     ]
    }
   ],
   "source": [
    "seq = fastkmers.get_sequences(\"../data/subset_1M.fq.gz\")"
   ]
  },
  {
   "cell_type": "markdown",
   "metadata": {},
   "source": [
    "### Generate kmers"
   ]
  },
  {
   "cell_type": "code",
   "execution_count": 7,
   "metadata": {},
   "outputs": [
    {
     "name": "stdout",
     "output_type": "stream",
     "text": [
      "Running quantify_kmers...\n",
      "Finished in 311.9757s\n"
     ]
    }
   ],
   "source": [
    "results = fastkmers.sort_results(fastkmers.quantify_kmers(seq, 5))"
   ]
  },
  {
   "cell_type": "markdown",
   "metadata": {},
   "source": [
    "With 1M reads, and looking for kmers size 5, it takes around 312 seconds or 5.2 minutes\n",
    "\n",
    "$$\n",
    "80M \\times \\frac{312}{1M} = 24960s\n",
    "\\times \\frac{1min}{60s} = 416min\n",
    "\\times \\frac{1hr}{60min} = 6.93hrs\n",
    "$$\n",
    "\n",
    "With our current algorithm, it takes around 7 hours to process a fullsized fastq file with 80M reads. \n",
    "Try multiprocessing on multiple cores to speed up the process"
   ]
  },
  {
   "cell_type": "code",
   "execution_count": 17,
   "metadata": {},
   "outputs": [
    {
     "name": "stdout",
     "output_type": "stream",
     "text": [
      "Parallelizing quantify_kmers on 16 cores...\n",
      "Running quantify_kmers...\n",
      "Running quantify_kmers...\n",
      "Running quantify_kmers...\n",
      "Running quantify_kmers...\n",
      "Running quantify_kmers...\n",
      "Running quantify_kmers...\n",
      "Running quantify_kmers...\n",
      "Running quantify_kmers...\n",
      "Running quantify_kmers...\n",
      "Running quantify_kmers...\n",
      "Running quantify_kmers...\n",
      "Running quantify_kmers...\n",
      "Running quantify_kmers...\n",
      "Running quantify_kmers...\n",
      "Running quantify_kmers...\n",
      "Running quantify_kmers...\n",
      "Finished in 45.3991s\n",
      "Finished in 45.5584s\n",
      "Finished in 45.5101s\n",
      "Finished in 45.5631s\n",
      "Finished in 45.5978s\n",
      "Finished in 45.5386s\n",
      "Finished in 45.4977s\n",
      "Finished in 45.6534s\n",
      "Finished in 45.5467s\n",
      "Finished in 45.6580s\n",
      "Finished in 45.5748s\n",
      "Finished in 45.5624s\n",
      "Finished in 45.5244s\n",
      "Finished in 45.4913s\n",
      "Finished in 47.7048s\n",
      "Finished in 47.4332s\n"
     ]
    }
   ],
   "source": [
    "results2 = fastkmers.sort_results(\n",
    "    fastkmers.merge_kmers(\n",
    "        fastkmers.parallelize(\n",
    "            array=seq,\n",
    "            func=fastkmers.quantify_kmers,\n",
    "            n_cores=16,\n",
    "            N=5)\n",
    "    )\n",
    ")"
   ]
  },
  {
   "cell_type": "markdown",
   "metadata": {},
   "source": [
    "Multiprocessing on 16 cores led to finishing the task in 45~ seconds.\n",
    "\n",
    "$$\n",
    "80M \\times \\frac{45s}{1M} = 3600s\n",
    "\\times \\frac{1min}{60s} = 60min\n",
    "\\times \\frac{1hr}{60min} = 1hrs\n",
    "$$\n",
    "\n",
    "Multiprocessing will enable the task for 80M reads to finish in approximately 1 hour. \n",
    "6 hours faster than running the algorithm serially and not parallel."
   ]
  },
  {
   "cell_type": "markdown",
   "metadata": {},
   "source": [
    "Get the sequences in a list format"
   ]
  },
  {
   "cell_type": "code",
   "execution_count": 22,
   "metadata": {},
   "outputs": [],
   "source": [
    "results = [i[0] for i in results]"
   ]
  }
 ],
 "metadata": {
  "kernelspec": {
   "display_name": "Python 3",
   "language": "python",
   "name": "python3"
  },
  "language_info": {
   "codemirror_mode": {
    "name": "ipython",
    "version": 3
   },
   "file_extension": ".py",
   "mimetype": "text/x-python",
   "name": "python",
   "nbconvert_exporter": "python",
   "pygments_lexer": "ipython3",
   "version": "3.7.7"
  }
 },
 "nbformat": 4,
 "nbformat_minor": 4
}
